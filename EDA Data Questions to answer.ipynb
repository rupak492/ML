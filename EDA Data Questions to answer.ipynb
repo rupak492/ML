{
 "cells": [
  {
   "cell_type": "markdown",
   "id": "e7c3dc52",
   "metadata": {},
   "source": [
    "### Importing pandas and checking NaN values"
   ]
  },
  {
   "cell_type": "code",
   "execution_count": 163,
   "id": "19cd47ea",
   "metadata": {
    "scrolled": false
   },
   "outputs": [
    {
     "data": {
      "text/plain": [
       "PassengerId      0\n",
       "Survived         0\n",
       "Pclass           0\n",
       "Name             0\n",
       "Sex              0\n",
       "Age            177\n",
       "SibSp            0\n",
       "Parch            0\n",
       "Ticket           0\n",
       "Fare             0\n",
       "Cabin          687\n",
       "Embarked         2\n",
       "dtype: int64"
      ]
     },
     "execution_count": 163,
     "metadata": {},
     "output_type": "execute_result"
    }
   ],
   "source": [
    "import pandas as pd\n",
    "data_df = pd.read_csv('titanic.csv')\n",
    "data_df.isna().sum()"
   ]
  },
  {
   "cell_type": "markdown",
   "id": "b397aa34",
   "metadata": {},
   "source": [
    "### 1. How many passengers in this data set?"
   ]
  },
  {
   "cell_type": "code",
   "execution_count": 164,
   "id": "2e16ce75",
   "metadata": {},
   "outputs": [
    {
     "name": "stdout",
     "output_type": "stream",
     "text": [
      "Number of Total Passengers: 891\n"
     ]
    }
   ],
   "source": [
    "total_passenger = len(data_df['Name'])\n",
    "print(f'Number of Total Passengers: {total_passenger}')"
   ]
  },
  {
   "cell_type": "markdown",
   "id": "98eea762",
   "metadata": {},
   "source": [
    "### 2. How many of them male and how many of them Female?"
   ]
  },
  {
   "cell_type": "code",
   "execution_count": 165,
   "id": "2080ba84",
   "metadata": {
    "scrolled": true
   },
   "outputs": [
    {
     "name": "stdout",
     "output_type": "stream",
     "text": [
      "Number of Male Passenge: 577\n",
      "Number of Male Passenge: 314\n"
     ]
    }
   ],
   "source": [
    "male = data_df[data_df['Sex']==\"male\"]['Sex'].count()\n",
    "female = data_df[data_df['Sex']==\"female\"]['Sex'].count()\n",
    "\n",
    "print(f'Number of Male Passenge: {male}')\n",
    "print(f'Number of Male Passenge: {female}')"
   ]
  },
  {
   "cell_type": "markdown",
   "id": "e929ebec",
   "metadata": {},
   "source": [
    "### 3. How many passengers are 50 years or older?"
   ]
  },
  {
   "cell_type": "code",
   "execution_count": 166,
   "id": "3a182f7e",
   "metadata": {},
   "outputs": [
    {
     "name": "stdout",
     "output_type": "stream",
     "text": [
      "Number of passengers are 50 years or older: 74\n"
     ]
    }
   ],
   "source": [
    "older = data_df[data_df['Age']>=50]['Age'].count()\n",
    "print(f'Number of passengers are 50 years or older: {older}')"
   ]
  },
  {
   "cell_type": "markdown",
   "id": "e506bb5f",
   "metadata": {},
   "source": [
    "### 4. How many of them were under 18 years old?"
   ]
  },
  {
   "cell_type": "code",
   "execution_count": 167,
   "id": "e2e1bf94",
   "metadata": {},
   "outputs": [
    {
     "name": "stdout",
     "output_type": "stream",
     "text": [
      "Number of passengers under 18 years are: 139\n"
     ]
    }
   ],
   "source": [
    "younger = data_df[data_df['Age']<=18]['Age'].count()\n",
    "print(f'Number of passengers under 18 years are: {younger}')"
   ]
  },
  {
   "cell_type": "markdown",
   "id": "45c7a1a0",
   "metadata": {},
   "source": [
    "### 5. Where are the most passengers embarked from?"
   ]
  },
  {
   "cell_type": "code",
   "execution_count": 168,
   "id": "f8feec05",
   "metadata": {
    "scrolled": true
   },
   "outputs": [
    {
     "name": "stdout",
     "output_type": "stream",
     "text": [
      "Most passengers embarked from Southampton and the number of passengers: 644\n"
     ]
    }
   ],
   "source": [
    "#data_df.columns #to see the columns title\n",
    "max_embarked=data_df['Embarked'].value_counts()[0]\n",
    "print(f'Most passengers embarked from Southampton and the number of passengers: {max_embarked}')"
   ]
  },
  {
   "cell_type": "markdown",
   "id": "440fd759",
   "metadata": {},
   "source": [
    "### 6. What is the percentage of survived from the men and from the woman? "
   ]
  },
  {
   "cell_type": "code",
   "execution_count": 169,
   "id": "e26c82e8",
   "metadata": {},
   "outputs": [
    {
     "name": "stdout",
     "output_type": "stream",
     "text": [
      "Percentage of survived men: 18.890814558058924 %\n",
      "Percentage of survived woman: 74.20382165605096 %\n"
     ]
    }
   ],
   "source": [
    "# male = data_df[data_df['Sex']==\"male\" and data_df['Survived'] == 1] #ValueError: The truth value of a Series is ambiguous. Use a.empty, a.bool(), a.item(), a.any() or a.all().\n",
    "male_total = data_df[data_df['Sex']==\"male\"]\n",
    "male_survived = male_total[male_total['Survived']==1]['Survived'].count()\n",
    "male_survived_percentage = male_survived*100/male_total['Sex'].count()\n",
    "\n",
    "female_total = data_df[data_df['Sex']==\"female\"]\n",
    "female_survived = female_total[female_total['Survived']==1]['Survived'].count()\n",
    "female_survived_percentage = female_survived*100/female_total['Sex'].count()\n",
    "\n",
    "print(f'Percentage of survived men: {male_survived_percentage} %')\n",
    "print(f'Percentage of survived woman: {female_survived_percentage} %')"
   ]
  },
  {
   "cell_type": "markdown",
   "id": "7acc9523",
   "metadata": {},
   "source": [
    "### 7. What was total survival rate? {survival rate = people survived/total group population}"
   ]
  },
  {
   "cell_type": "code",
   "execution_count": 110,
   "id": "100d7bed",
   "metadata": {},
   "outputs": [
    {
     "name": "stdout",
     "output_type": "stream",
     "text": [
      "Survival Rate: 0.3838383838383838\n",
      "Survival Percentage: 38.38383838383838\n"
     ]
    }
   ],
   "source": [
    "# data_df.columns\n",
    "total_survive = data_df[data_df['Survived']==1]['Survived'].count()\n",
    "total_population = data_df['Survived'].count()\n",
    "\n",
    "survival_rate = total_survive/total_population\n",
    "survival_percent = survival_rate * 100\n",
    "\n",
    "print(f'Survival Rate: {survival_rate}')\n",
    "print(f'Survival Percentage: {survival_percent}')"
   ]
  },
  {
   "cell_type": "markdown",
   "id": "2740aa07",
   "metadata": {},
   "source": [
    "### 8. Among those who are 18 or younger, what was the survival rate?"
   ]
  },
  {
   "cell_type": "code",
   "execution_count": 131,
   "id": "22ec4cf8",
   "metadata": {},
   "outputs": [
    {
     "name": "stdout",
     "output_type": "stream",
     "text": [
      "Survival rate of 18 or younger passangers: 0.5035971223021583\n",
      "Survival Pencentage of 18 or younger passangers: 50.35971223021583\n"
     ]
    }
   ],
   "source": [
    "total_younger = data_df[data_df['Age']<=18] #['Age'].count()\n",
    "survive_younger = total_younger[total_younger['Survived'] == 1]['Survived'].count()\n",
    "younger_survival_rate = survive_younger/total_younger['Age'].count()\n",
    "print(f'Survival rate of 18 or younger passangers: {younger_survival_rate}')\n",
    "print(f'Survival Pencentage of 18 or younger passangers: {younger_survival_rate*100}')"
   ]
  },
  {
   "cell_type": "markdown",
   "id": "37937c19",
   "metadata": {},
   "source": [
    "### 9. Among those who are 50 or older, what was the survival rate?"
   ]
  },
  {
   "cell_type": "code",
   "execution_count": 135,
   "id": "54261978",
   "metadata": {},
   "outputs": [
    {
     "name": "stdout",
     "output_type": "stream",
     "text": [
      "Survival rate of 50 or older passangers: 0.36486486486486486\n",
      "Survival Pencentage of 50 or older passangers: 36.486486486486484\n"
     ]
    }
   ],
   "source": [
    "total_older = data_df[data_df['Age']>=50] #['Age'].count()\n",
    "survived_older = total_older[total_older['Survived'] == 1]['Survived'].count()\n",
    "older_survival_rate = survived_older/total_older['Age'].count()\n",
    "print(f'Survival rate of 50 or older passangers: {older_survival_rate}')\n",
    "print(f'Survival Pencentage of 50 or older passangers: {older_survival_rate*100}')"
   ]
  },
  {
   "cell_type": "markdown",
   "id": "58230cd6",
   "metadata": {},
   "source": [
    "### 10. Who is the most oldest woman, sadly did not survive?"
   ]
  },
  {
   "cell_type": "code",
   "execution_count": 197,
   "id": "53fdb31f",
   "metadata": {},
   "outputs": [
    {
     "name": "stdout",
     "output_type": "stream",
     "text": [
      "The name of the most oldest woman, sadly did not survive: 772    Mack, Mrs. (Mary)\n",
      "Name: Name, dtype: object\n"
     ]
    }
   ],
   "source": [
    "female_total = data_df[data_df['Sex']==\"female\"]\n",
    "not_survived = female_total[female_total['Survived']==0]['Age'].max()\n",
    "oldest_unluck_woman = female_total[female_total['Age']==not_survived]['Name']\n",
    "\n",
    "print(f'The name of the most oldest woman, sadly did not survive: {oldest_unluck_woman}') #772    Mack, Mrs. (Mary) #why 772\n",
    "\n",
    "# oldest_unluck_woman\n",
    "# not_survived\n"
   ]
  },
  {
   "cell_type": "code",
   "execution_count": 188,
   "id": "cfaa5104",
   "metadata": {},
   "outputs": [
    {
     "ename": "KeyError",
     "evalue": "'Name'",
     "output_type": "error",
     "traceback": [
      "\u001b[1;31m---------------------------------------------------------------------------\u001b[0m",
      "\u001b[1;31mKeyError\u001b[0m                                  Traceback (most recent call last)",
      "\u001b[1;32mC:\\ProgramData\\Anaconda3\\lib\\site-packages\\pandas\\core\\indexes\\base.py\u001b[0m in \u001b[0;36mget_loc\u001b[1;34m(self, key, method, tolerance)\u001b[0m\n\u001b[0;32m   3079\u001b[0m             \u001b[1;32mtry\u001b[0m\u001b[1;33m:\u001b[0m\u001b[1;33m\u001b[0m\u001b[1;33m\u001b[0m\u001b[0m\n\u001b[1;32m-> 3080\u001b[1;33m                 \u001b[1;32mreturn\u001b[0m \u001b[0mself\u001b[0m\u001b[1;33m.\u001b[0m\u001b[0m_engine\u001b[0m\u001b[1;33m.\u001b[0m\u001b[0mget_loc\u001b[0m\u001b[1;33m(\u001b[0m\u001b[0mcasted_key\u001b[0m\u001b[1;33m)\u001b[0m\u001b[1;33m\u001b[0m\u001b[1;33m\u001b[0m\u001b[0m\n\u001b[0m\u001b[0;32m   3081\u001b[0m             \u001b[1;32mexcept\u001b[0m \u001b[0mKeyError\u001b[0m \u001b[1;32mas\u001b[0m \u001b[0merr\u001b[0m\u001b[1;33m:\u001b[0m\u001b[1;33m\u001b[0m\u001b[1;33m\u001b[0m\u001b[0m\n",
      "\u001b[1;32mpandas\\_libs\\index.pyx\u001b[0m in \u001b[0;36mpandas._libs.index.IndexEngine.get_loc\u001b[1;34m()\u001b[0m\n",
      "\u001b[1;32mpandas\\_libs\\index.pyx\u001b[0m in \u001b[0;36mpandas._libs.index.IndexEngine.get_loc\u001b[1;34m()\u001b[0m\n",
      "\u001b[1;32mpandas\\_libs\\index_class_helper.pxi\u001b[0m in \u001b[0;36mpandas._libs.index.Int64Engine._check_type\u001b[1;34m()\u001b[0m\n",
      "\u001b[1;31mKeyError\u001b[0m: 'Name'",
      "\nThe above exception was the direct cause of the following exception:\n",
      "\u001b[1;31mKeyError\u001b[0m                                  Traceback (most recent call last)",
      "\u001b[1;32m<ipython-input-188-e06c22761959>\u001b[0m in \u001b[0;36m<module>\u001b[1;34m\u001b[0m\n\u001b[1;32m----> 1\u001b[1;33m \u001b[0moldest_unluck_woman\u001b[0m\u001b[1;33m[\u001b[0m\u001b[1;34m'Name'\u001b[0m\u001b[1;33m]\u001b[0m\u001b[1;33m[\u001b[0m\u001b[1;36m1\u001b[0m\u001b[1;33m]\u001b[0m\u001b[1;33m\u001b[0m\u001b[1;33m\u001b[0m\u001b[0m\n\u001b[0m",
      "\u001b[1;32mC:\\ProgramData\\Anaconda3\\lib\\site-packages\\pandas\\core\\series.py\u001b[0m in \u001b[0;36m__getitem__\u001b[1;34m(self, key)\u001b[0m\n\u001b[0;32m    851\u001b[0m \u001b[1;33m\u001b[0m\u001b[0m\n\u001b[0;32m    852\u001b[0m         \u001b[1;32melif\u001b[0m \u001b[0mkey_is_scalar\u001b[0m\u001b[1;33m:\u001b[0m\u001b[1;33m\u001b[0m\u001b[1;33m\u001b[0m\u001b[0m\n\u001b[1;32m--> 853\u001b[1;33m             \u001b[1;32mreturn\u001b[0m \u001b[0mself\u001b[0m\u001b[1;33m.\u001b[0m\u001b[0m_get_value\u001b[0m\u001b[1;33m(\u001b[0m\u001b[0mkey\u001b[0m\u001b[1;33m)\u001b[0m\u001b[1;33m\u001b[0m\u001b[1;33m\u001b[0m\u001b[0m\n\u001b[0m\u001b[0;32m    854\u001b[0m \u001b[1;33m\u001b[0m\u001b[0m\n\u001b[0;32m    855\u001b[0m         \u001b[1;32mif\u001b[0m \u001b[0mis_hashable\u001b[0m\u001b[1;33m(\u001b[0m\u001b[0mkey\u001b[0m\u001b[1;33m)\u001b[0m\u001b[1;33m:\u001b[0m\u001b[1;33m\u001b[0m\u001b[1;33m\u001b[0m\u001b[0m\n",
      "\u001b[1;32mC:\\ProgramData\\Anaconda3\\lib\\site-packages\\pandas\\core\\series.py\u001b[0m in \u001b[0;36m_get_value\u001b[1;34m(self, label, takeable)\u001b[0m\n\u001b[0;32m    959\u001b[0m \u001b[1;33m\u001b[0m\u001b[0m\n\u001b[0;32m    960\u001b[0m         \u001b[1;31m# Similar to Index.get_value, but we do not fall back to positional\u001b[0m\u001b[1;33m\u001b[0m\u001b[1;33m\u001b[0m\u001b[1;33m\u001b[0m\u001b[0m\n\u001b[1;32m--> 961\u001b[1;33m         \u001b[0mloc\u001b[0m \u001b[1;33m=\u001b[0m \u001b[0mself\u001b[0m\u001b[1;33m.\u001b[0m\u001b[0mindex\u001b[0m\u001b[1;33m.\u001b[0m\u001b[0mget_loc\u001b[0m\u001b[1;33m(\u001b[0m\u001b[0mlabel\u001b[0m\u001b[1;33m)\u001b[0m\u001b[1;33m\u001b[0m\u001b[1;33m\u001b[0m\u001b[0m\n\u001b[0m\u001b[0;32m    962\u001b[0m         \u001b[1;32mreturn\u001b[0m \u001b[0mself\u001b[0m\u001b[1;33m.\u001b[0m\u001b[0mindex\u001b[0m\u001b[1;33m.\u001b[0m\u001b[0m_get_values_for_loc\u001b[0m\u001b[1;33m(\u001b[0m\u001b[0mself\u001b[0m\u001b[1;33m,\u001b[0m \u001b[0mloc\u001b[0m\u001b[1;33m,\u001b[0m \u001b[0mlabel\u001b[0m\u001b[1;33m)\u001b[0m\u001b[1;33m\u001b[0m\u001b[1;33m\u001b[0m\u001b[0m\n\u001b[0;32m    963\u001b[0m \u001b[1;33m\u001b[0m\u001b[0m\n",
      "\u001b[1;32mC:\\ProgramData\\Anaconda3\\lib\\site-packages\\pandas\\core\\indexes\\base.py\u001b[0m in \u001b[0;36mget_loc\u001b[1;34m(self, key, method, tolerance)\u001b[0m\n\u001b[0;32m   3080\u001b[0m                 \u001b[1;32mreturn\u001b[0m \u001b[0mself\u001b[0m\u001b[1;33m.\u001b[0m\u001b[0m_engine\u001b[0m\u001b[1;33m.\u001b[0m\u001b[0mget_loc\u001b[0m\u001b[1;33m(\u001b[0m\u001b[0mcasted_key\u001b[0m\u001b[1;33m)\u001b[0m\u001b[1;33m\u001b[0m\u001b[1;33m\u001b[0m\u001b[0m\n\u001b[0;32m   3081\u001b[0m             \u001b[1;32mexcept\u001b[0m \u001b[0mKeyError\u001b[0m \u001b[1;32mas\u001b[0m \u001b[0merr\u001b[0m\u001b[1;33m:\u001b[0m\u001b[1;33m\u001b[0m\u001b[1;33m\u001b[0m\u001b[0m\n\u001b[1;32m-> 3082\u001b[1;33m                 \u001b[1;32mraise\u001b[0m \u001b[0mKeyError\u001b[0m\u001b[1;33m(\u001b[0m\u001b[0mkey\u001b[0m\u001b[1;33m)\u001b[0m \u001b[1;32mfrom\u001b[0m \u001b[0merr\u001b[0m\u001b[1;33m\u001b[0m\u001b[1;33m\u001b[0m\u001b[0m\n\u001b[0m\u001b[0;32m   3083\u001b[0m \u001b[1;33m\u001b[0m\u001b[0m\n\u001b[0;32m   3084\u001b[0m         \u001b[1;32mif\u001b[0m \u001b[0mtolerance\u001b[0m \u001b[1;32mis\u001b[0m \u001b[1;32mnot\u001b[0m \u001b[1;32mNone\u001b[0m\u001b[1;33m:\u001b[0m\u001b[1;33m\u001b[0m\u001b[1;33m\u001b[0m\u001b[0m\n",
      "\u001b[1;31mKeyError\u001b[0m: 'Name'"
     ]
    }
   ],
   "source": [
    "oldest_unluck_woman['Name'][1]"
   ]
  },
  {
   "cell_type": "code",
   "execution_count": null,
   "id": "a4b7ab97",
   "metadata": {},
   "outputs": [],
   "source": []
  }
 ],
 "metadata": {
  "kernelspec": {
   "display_name": "Python 3",
   "language": "python",
   "name": "python3"
  },
  "language_info": {
   "codemirror_mode": {
    "name": "ipython",
    "version": 3
   },
   "file_extension": ".py",
   "mimetype": "text/x-python",
   "name": "python",
   "nbconvert_exporter": "python",
   "pygments_lexer": "ipython3",
   "version": "3.8.8"
  }
 },
 "nbformat": 4,
 "nbformat_minor": 5
}
